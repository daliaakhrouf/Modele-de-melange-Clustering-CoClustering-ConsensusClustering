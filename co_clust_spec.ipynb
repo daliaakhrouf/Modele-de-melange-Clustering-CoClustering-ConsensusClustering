{
  "nbformat": 4,
  "nbformat_minor": 0,
  "metadata": {
    "kernelspec": {
      "name": "python3",
      "display_name": "Python 3"
    },
    "language_info": {
      "codemirror_mode": {
        "name": "ipython",
        "version": 3
      },
      "file_extension": ".py",
      "mimetype": "text/x-python",
      "name": "python",
      "nbconvert_exporter": "python",
      "pygments_lexer": "ipython3",
      "version": "3.7.1"
    },
    "colab": {
      "name": "co_clust.ipynb",
      "provenance": [],
      "collapsed_sections": []
    },
    "accelerator": "GPU"
  },
  "cells": [
    {
      "cell_type": "code",
      "metadata": {
        "id": "qn-RThjx3jvk",
        "colab_type": "code",
        "outputId": "472dab4d-ba21-4f11-a5bf-e28319cbc121",
        "colab": {
          "base_uri": "https://localhost:8080/",
          "height": 122
        }
      },
      "source": [
        "!pip install coclust "
      ],
      "execution_count": 1,
      "outputs": [
        {
          "output_type": "stream",
          "text": [
            "Requirement already satisfied: coclust in /usr/local/lib/python3.6/dist-packages (0.2.1)\n",
            "Requirement already satisfied: scikit-learn in /usr/local/lib/python3.6/dist-packages (from coclust) (0.21.3)\n",
            "Requirement already satisfied: scipy in /usr/local/lib/python3.6/dist-packages (from coclust) (1.3.2)\n",
            "Requirement already satisfied: numpy in /usr/local/lib/python3.6/dist-packages (from coclust) (1.17.4)\n",
            "Requirement already satisfied: joblib>=0.11 in /usr/local/lib/python3.6/dist-packages (from scikit-learn->coclust) (0.14.0)\n"
          ],
          "name": "stdout"
        }
      ]
    },
    {
      "cell_type": "code",
      "metadata": {
        "id": "GcSaa9dk3uQM",
        "colab_type": "code",
        "outputId": "4cf86fe8-7028-402f-b5b5-f4e70a3e4d06",
        "colab": {
          "base_uri": "https://localhost:8080/",
          "height": 102
        }
      },
      "source": [
        "!sudo apt install metis"
      ],
      "execution_count": 2,
      "outputs": [
        {
          "output_type": "stream",
          "text": [
            "Reading package lists... Done\n",
            "Building dependency tree       \n",
            "Reading state information... Done\n",
            "metis is already the newest version (5.1.0.dfsg-5).\n",
            "0 upgraded, 0 newly installed, 0 to remove and 29 not upgraded.\n"
          ],
          "name": "stdout"
        }
      ]
    },
    {
      "cell_type": "markdown",
      "metadata": {
        "id": "m6WJNZqR7qlj",
        "colab_type": "text"
      },
      "source": [
        ""
      ]
    },
    {
      "cell_type": "code",
      "metadata": {
        "id": "Xv-X3jy934K0",
        "colab_type": "code",
        "outputId": "61f93cd2-a419-4b3e-fd24-1ba753ceb36e",
        "colab": {
          "base_uri": "https://localhost:8080/",
          "height": 360
        }
      },
      "source": [
        "!pip install git+git://github.com/GGiecold/Cluster_Ensembles.git"
      ],
      "execution_count": 3,
      "outputs": [
        {
          "output_type": "stream",
          "text": [
            "Collecting git+git://github.com/GGiecold/Cluster_Ensembles.git\n",
            "  Cloning git://github.com/GGiecold/Cluster_Ensembles.git to /tmp/pip-req-build-88oly4mj\n",
            "  Running command git clone -q git://github.com/GGiecold/Cluster_Ensembles.git /tmp/pip-req-build-88oly4mj\n",
            "Requirement already satisfied (use --upgrade to upgrade): Cluster-Ensembles==1.16 from git+git://github.com/GGiecold/Cluster_Ensembles.git in /usr/local/lib/python3.6/dist-packages\n",
            "Requirement already satisfied: numexpr>=2.4 in /usr/local/lib/python3.6/dist-packages (from Cluster-Ensembles==1.16) (2.7.0)\n",
            "Requirement already satisfied: numpy>=1.9.0 in /usr/local/lib/python3.6/dist-packages (from Cluster-Ensembles==1.16) (1.17.4)\n",
            "Requirement already satisfied: psutil in /usr/local/lib/python3.6/dist-packages (from Cluster-Ensembles==1.16) (5.4.8)\n",
            "Requirement already satisfied: scipy in /usr/local/lib/python3.6/dist-packages (from Cluster-Ensembles==1.16) (1.3.2)\n",
            "Requirement already satisfied: sklearn in /usr/local/lib/python3.6/dist-packages (from Cluster-Ensembles==1.16) (0.0)\n",
            "Requirement already satisfied: setuptools in /usr/local/lib/python3.6/dist-packages (from Cluster-Ensembles==1.16) (41.6.0)\n",
            "Requirement already satisfied: tables in /usr/local/lib/python3.6/dist-packages (from Cluster-Ensembles==1.16) (3.4.4)\n",
            "Requirement already satisfied: scikit-learn in /usr/local/lib/python3.6/dist-packages (from sklearn->Cluster-Ensembles==1.16) (0.21.3)\n",
            "Requirement already satisfied: six>=1.9.0 in /usr/local/lib/python3.6/dist-packages (from tables->Cluster-Ensembles==1.16) (1.12.0)\n",
            "Requirement already satisfied: joblib>=0.11 in /usr/local/lib/python3.6/dist-packages (from scikit-learn->sklearn->Cluster-Ensembles==1.16) (0.14.0)\n",
            "Building wheels for collected packages: Cluster-Ensembles\n",
            "  Building wheel for Cluster-Ensembles (setup.py) ... \u001b[?25l\u001b[?25hdone\n",
            "  Created wheel for Cluster-Ensembles: filename=Cluster_Ensembles-1.16-cp36-none-any.whl size=5332957 sha256=5a770e248b307dbaff41590bf2bcb332b069c46d6c93e507cdc918c5b0da8d52\n",
            "  Stored in directory: /tmp/pip-ephem-wheel-cache-b_pyhjdd/wheels/d8/4c/1a/99b5178b447053900f1144feaa990df0a5858f8eac0fac8ce6\n",
            "Successfully built Cluster-Ensembles\n"
          ],
          "name": "stdout"
        }
      ]
    },
    {
      "cell_type": "code",
      "metadata": {
        "id": "PdOx55an7F_q",
        "colab_type": "code",
        "colab": {}
      },
      "source": [
        "import numpy as np, scipy.sparse as sp, scipy.io as io\n",
        "from sklearn.metrics import confusion_matrix\n",
        "from coclust.coclustering import (CoclustMod, CoclustSpecMod,CoclustInfo)\n",
        "from coclust.visualization import plot_reorganized_matrix\n",
        "from sklearn.metrics.cluster import normalized_mutual_info_score as nmi\n",
        "from sklearn.metrics.cluster import adjusted_rand_score as ari\n",
        "import Cluster_Ensembles as CE\n",
        "import sklearn as sc\n",
        "import numexpr as nu\n",
        "from coclust.clustering import spherical_kmeans\n",
        "from random import *"
      ],
      "execution_count": 0,
      "outputs": []
    },
    {
      "cell_type": "code",
      "metadata": {
        "id": "H7vwDLoU7F_x",
        "colab_type": "code",
        "colab": {}
      },
      "source": [
        "data=io.loadmat(\"classic4_ti_n.mat\").get(\"dtm\")\n",
        "True_labels= io.loadmat(\"classic4.mat\").get(\"labels\")"
      ],
      "execution_count": 0,
      "outputs": []
    },
    {
      "cell_type": "code",
      "metadata": {
        "id": "3pKhxh9C7F_-",
        "colab_type": "code",
        "colab": {}
      },
      "source": [
        "nb_clusters=np.max(True_labels)+1"
      ],
      "execution_count": 0,
      "outputs": []
    },
    {
      "cell_type": "code",
      "metadata": {
        "id": "YreNx7Q_Oo8H",
        "colab_type": "code",
        "colab": {}
      },
      "source": [
        " model=CoclustSpecMod(n_clusters=nb_clusters,max_iter=randrange(2,15),n_init=randrange(1,10),\n",
        "                     random_state=randrange(1,10))"
      ],
      "execution_count": 0,
      "outputs": []
    },
    {
      "cell_type": "code",
      "metadata": {
        "id": "Yf2IpVhN9P8t",
        "colab_type": "code",
        "colab": {}
      },
      "source": [
        "model.fit(data)"
      ],
      "execution_count": 0,
      "outputs": []
    },
    {
      "cell_type": "code",
      "metadata": {
        "id": "nhWLlrcbPUyp",
        "colab_type": "code",
        "outputId": "fa057b23-b36f-435a-b5bb-8c801545ae7e",
        "colab": {
          "base_uri": "https://localhost:8080/",
          "height": 54
        }
      },
      "source": [
        "model."
      ],
      "execution_count": 12,
      "outputs": [
        {
          "output_type": "execute_result",
          "data": {
            "text/plain": [
              "<bound method BaseEstimator.get_params of CoclustSpecMod(max_iter=7, n_clusters=4, n_init=6, random_state=2, tol=1e-09)>"
            ]
          },
          "metadata": {
            "tags": []
          },
          "execution_count": 12
        }
      ]
    },
    {
      "cell_type": "code",
      "metadata": {
        "id": "rcaA9FZXQT7j",
        "colab_type": "code",
        "colab": {}
      },
      "source": [
        ""
      ],
      "execution_count": 0,
      "outputs": []
    },
    {
      "cell_type": "code",
      "metadata": {
        "id": "-GAIVW_77GAD",
        "colab_type": "code",
        "colab": {}
      },
      "source": [
        "def best_five_ccinfo(data):\n",
        "\n",
        "  cr=[]\n",
        "  labels=[]\n",
        "  for i in range(10):\n",
        "    \n",
        "    num_model=i\n",
        "    model=CoclustSpecMod(n_clusters=nb_clusters,max_iter=randrange(2,15),n_init=randrange(1,10),\n",
        "                     random_state=randrange(1,10))\n",
        "    print('model',i)\n",
        "    model.fit(data)\n",
        "    \n",
        "    cr.append(ari(True_labels.flatten(),model.row_labels_))\n",
        "    predicted_row_labels = model.row_labels_\n",
        "    labels.append(predicted_row_labels)\n",
        "  best_labels=[]\n",
        "  indices = np.argsort(cr)[::-1][:5]\n",
        "  print(\"best five vriterion :\")\n",
        "  for i in indices:\n",
        "    \n",
        "    print(cr[i])\n",
        "    best_labels.append(labels[i])\n",
        " \n",
        "  return best_labels"
      ],
      "execution_count": 0,
      "outputs": []
    },
    {
      "cell_type": "code",
      "metadata": {
        "id": "Fe2ftqWVQSpt",
        "colab_type": "code",
        "outputId": "c6a79ad9-4129-447c-aa2f-9759a9773f8b",
        "colab": {
          "base_uri": "https://localhost:8080/",
          "height": 289
        }
      },
      "source": [
        "best_five_labels=best_five_ccinfo(data)"
      ],
      "execution_count": 16,
      "outputs": [
        {
          "output_type": "stream",
          "text": [
            "model 0\n",
            "model 1\n",
            "model 2\n",
            "model 3\n",
            "model 4\n",
            "model 5\n",
            "model 6\n",
            "model 7\n",
            "model 8\n",
            "model 9\n",
            "best five vriterion :\n",
            "-0.0010604380998032474\n",
            "-0.0010604380998032474\n",
            "-0.0014124351789861342\n",
            "-0.0014124351789861342\n",
            "-0.0014124351789861342\n"
          ],
          "name": "stdout"
        }
      ]
    },
    {
      "cell_type": "code",
      "metadata": {
        "id": "IMcZZYeA-HL3",
        "colab_type": "code",
        "colab": {}
      },
      "source": [
        "def apply_cluster_ens_for_bestfive(best_five_labels):\n",
        "  return  CE.cluster_ensembles(np.array(best_five_labels), verbose = True, N_clusters_max = nb_clusters)"
      ],
      "execution_count": 0,
      "outputs": []
    },
    {
      "cell_type": "code",
      "metadata": {
        "id": "F1ILYk5n7GA1",
        "colab_type": "code",
        "outputId": "6baf82dc-737f-4ba8-f402-8ed074fb1f0c",
        "colab": {
          "base_uri": "https://localhost:8080/",
          "height": 1000
        }
      },
      "source": [
        "consensus_clustering_labels = apply_cluster_ens_for_bestfive(best_five_labels)"
      ],
      "execution_count": 18,
      "outputs": [
        {
          "output_type": "stream",
          "text": [
            "*****\n",
            "INFO: Cluster_Ensembles: CSPA: consensus clustering using CSPA.\n",
            "\n",
            "#\n",
            "INFO: Cluster_Ensembles: wgraph: writing wgraph_CSPA.\n",
            "#\n",
            "\n",
            "#\n",
            "INFO: Cluster_Ensembles: sgraph: calling gpmetis for graph partitioning.\n",
            "INFO: Cluster_Ensembles: sgraph: (hyper)-graph partitioning completed; loading wgraph_CSPA.part.4\n",
            "#\n"
          ],
          "name": "stdout"
        },
        {
          "output_type": "stream",
          "text": [
            "/usr/local/lib/python3.6/dist-packages/sklearn/metrics/cluster/supervised.py:859: FutureWarning: The behavior of NMI will change in version 0.22. To match the behavior of 'v_measure_score', NMI will use average_method='arithmetic' by default.\n",
            "  FutureWarning)\n",
            "/usr/local/lib/python3.6/dist-packages/sklearn/metrics/cluster/supervised.py:859: FutureWarning: The behavior of NMI will change in version 0.22. To match the behavior of 'v_measure_score', NMI will use average_method='arithmetic' by default.\n",
            "  FutureWarning)\n",
            "/usr/local/lib/python3.6/dist-packages/sklearn/metrics/cluster/supervised.py:859: FutureWarning: The behavior of NMI will change in version 0.22. To match the behavior of 'v_measure_score', NMI will use average_method='arithmetic' by default.\n",
            "  FutureWarning)\n",
            "/usr/local/lib/python3.6/dist-packages/sklearn/metrics/cluster/supervised.py:859: FutureWarning: The behavior of NMI will change in version 0.22. To match the behavior of 'v_measure_score', NMI will use average_method='arithmetic' by default.\n",
            "  FutureWarning)\n",
            "/usr/local/lib/python3.6/dist-packages/sklearn/metrics/cluster/supervised.py:859: FutureWarning: The behavior of NMI will change in version 0.22. To match the behavior of 'v_measure_score', NMI will use average_method='arithmetic' by default.\n",
            "  FutureWarning)\n"
          ],
          "name": "stderr"
        },
        {
          "output_type": "stream",
          "text": [
            "\n",
            "INFO: Cluster_Ensembles: cluster_ensembles: CSPA at 0.011784177171414075.\n",
            "*****\n",
            "\n",
            "*****\n",
            "INFO: Cluster_Ensembles: HGPA: consensus clustering using HGPA.\n",
            "\n",
            "#\n",
            "INFO: Cluster_Ensembles: wgraph: writing wgraph_HGPA.\n",
            "INFO: Cluster_Ensembles: wgraph: 7094 vertices and 20 non-zero hyper-edges.\n",
            "#\n",
            "\n",
            "#\n",
            "INFO: Cluster_Ensembles: sgraph: calling shmetis for hypergraph partitioning.\n",
            "INFO: Cluster_Ensembles: sgraph: (hyper)-graph partitioning completed; loading wgraph_HGPA.part.4\n",
            "#\n"
          ],
          "name": "stdout"
        },
        {
          "output_type": "stream",
          "text": [
            "/usr/local/lib/python3.6/dist-packages/sklearn/metrics/cluster/supervised.py:859: FutureWarning: The behavior of NMI will change in version 0.22. To match the behavior of 'v_measure_score', NMI will use average_method='arithmetic' by default.\n",
            "  FutureWarning)\n",
            "/usr/local/lib/python3.6/dist-packages/sklearn/metrics/cluster/supervised.py:859: FutureWarning: The behavior of NMI will change in version 0.22. To match the behavior of 'v_measure_score', NMI will use average_method='arithmetic' by default.\n",
            "  FutureWarning)\n",
            "/usr/local/lib/python3.6/dist-packages/sklearn/metrics/cluster/supervised.py:859: FutureWarning: The behavior of NMI will change in version 0.22. To match the behavior of 'v_measure_score', NMI will use average_method='arithmetic' by default.\n",
            "  FutureWarning)\n",
            "/usr/local/lib/python3.6/dist-packages/sklearn/metrics/cluster/supervised.py:859: FutureWarning: The behavior of NMI will change in version 0.22. To match the behavior of 'v_measure_score', NMI will use average_method='arithmetic' by default.\n",
            "  FutureWarning)\n",
            "/usr/local/lib/python3.6/dist-packages/sklearn/metrics/cluster/supervised.py:859: FutureWarning: The behavior of NMI will change in version 0.22. To match the behavior of 'v_measure_score', NMI will use average_method='arithmetic' by default.\n",
            "  FutureWarning)\n"
          ],
          "name": "stderr"
        },
        {
          "output_type": "stream",
          "text": [
            "\n",
            "INFO: Cluster_Ensembles: cluster_ensembles: HGPA at 0.014021493513911869.\n",
            "*****\n",
            "\n",
            "*****\n",
            "INFO: Cluster_Ensembles: MCLA: consensus clustering using MCLA.\n",
            "INFO: Cluster_Ensembles: MCLA: preparing graph for meta-clustering.\n",
            "INFO: Cluster_Ensembles: MCLA: done filling hypergraph adjacency matrix. Starting computation of Jaccard similarity matrix.\n",
            "INFO: Cluster_Ensembles: MCLA: starting computation of Jaccard similarity matrix.\n",
            "INFO: Cluster_Ensembles: MCLA: done computing the matrix of pairwise Jaccard similarity scores.\n",
            "\n",
            "#\n",
            "INFO: Cluster_Ensembles: wgraph: writing wgraph_MCLA.\n",
            "#\n",
            "\n",
            "#\n",
            "INFO: Cluster_Ensembles: sgraph: calling gpmetis for graph partitioning.\n",
            "INFO: Cluster_Ensembles: sgraph: (hyper)-graph partitioning completed; loading wgraph_MCLA.part.4\n",
            "#\n",
            "INFO: Cluster_Ensembles: MCLA: delivering 4 clusters.\n",
            "INFO: Cluster_Ensembles: MCLA: average posterior probability is 0.5619103835340107\n",
            "\n",
            "INFO: Cluster_Ensembles: cluster_ensembles: MCLA at 0.08102907886706735.\n",
            "*****\n"
          ],
          "name": "stdout"
        },
        {
          "output_type": "stream",
          "text": [
            "/usr/local/lib/python3.6/dist-packages/sklearn/metrics/cluster/supervised.py:859: FutureWarning: The behavior of NMI will change in version 0.22. To match the behavior of 'v_measure_score', NMI will use average_method='arithmetic' by default.\n",
            "  FutureWarning)\n",
            "/usr/local/lib/python3.6/dist-packages/sklearn/metrics/cluster/supervised.py:859: FutureWarning: The behavior of NMI will change in version 0.22. To match the behavior of 'v_measure_score', NMI will use average_method='arithmetic' by default.\n",
            "  FutureWarning)\n",
            "/usr/local/lib/python3.6/dist-packages/sklearn/metrics/cluster/supervised.py:859: FutureWarning: The behavior of NMI will change in version 0.22. To match the behavior of 'v_measure_score', NMI will use average_method='arithmetic' by default.\n",
            "  FutureWarning)\n",
            "/usr/local/lib/python3.6/dist-packages/sklearn/metrics/cluster/supervised.py:859: FutureWarning: The behavior of NMI will change in version 0.22. To match the behavior of 'v_measure_score', NMI will use average_method='arithmetic' by default.\n",
            "  FutureWarning)\n",
            "/usr/local/lib/python3.6/dist-packages/sklearn/metrics/cluster/supervised.py:859: FutureWarning: The behavior of NMI will change in version 0.22. To match the behavior of 'v_measure_score', NMI will use average_method='arithmetic' by default.\n",
            "  FutureWarning)\n"
          ],
          "name": "stderr"
        }
      ]
    },
    {
      "cell_type": "code",
      "metadata": {
        "id": "f76-4daJ9biq",
        "colab_type": "code",
        "colab": {}
      },
      "source": [
        "def _init_coass_matrix(lab):\n",
        "  M = np.zeros(shape=(data.shape[0],data.shape[0]))\n",
        "  for i in range(data.shape[0]):\n",
        "    for j in range(len(lab)):\n",
        "      if(lab[j]==lab[i]):\n",
        "        M[i,j]=1\n",
        "  return M "
      ],
      "execution_count": 0,
      "outputs": []
    },
    {
      "cell_type": "code",
      "metadata": {
        "id": "1Ftkn0JlIP8J",
        "colab_type": "code",
        "colab": {}
      },
      "source": [
        "def co_ass_matrix(best_labels):\n",
        "\n",
        "  mat_co_ass=np.zeros(shape=(data.shape[0],data.shape[0]))\n",
        "  for lab in best_labels:\n",
        "    mat_co_ass=mat_co_ass+_init_coass_matrix(lab)\n",
        "  mat_co_ass=mat_co_ass/5\n",
        "  return mat_co_ass"
      ],
      "execution_count": 0,
      "outputs": []
    },
    {
      "cell_type": "code",
      "metadata": {
        "id": "mEocOAjX7UUh",
        "colab_type": "code",
        "colab": {}
      },
      "source": [
        "def apply_ccinfo_for_co_ass(mat_co_ass):\n",
        "  model_co_ass=CoclustMod(n_clusters=nb_clusters)\n",
        "  model_co_ass.fit(mat_co_ass)\n",
        "  return model_co_ass.row_labels_"
      ],
      "execution_count": 0,
      "outputs": []
    },
    {
      "cell_type": "code",
      "metadata": {
        "id": "KMX7_EBW8S82",
        "colab_type": "code",
        "colab": {}
      },
      "source": [
        "def print_nmi_ari(label_co_as,consensus_clustering_labels):\n",
        "  print('Ari :cluster_ensembele ')\n",
        "  print(ari(True_labels.flatten(),label_co_ass))\n",
        "  print('Ari :co_associasion : ')\n",
        "  print(ari(True_labels.flatten(),consensus_clustering_labels))\n",
        "  print('Nmi :cluster_ensembele ')\n",
        "  print(nmi(True_labels.flatten(),label_co_ass))\n",
        "  print('NMI :cluster_ensembele ')\n",
        "  print(nmi(True_labels.flatten(),consensus_clustering_labels))"
      ],
      "execution_count": 0,
      "outputs": []
    },
    {
      "cell_type": "code",
      "metadata": {
        "id": "k3oMJcu2KBhd",
        "colab_type": "code",
        "colab": {}
      },
      "source": [
        "mat_co_ass=co_ass_matrix(best_five_labels)\n"
      ],
      "execution_count": 0,
      "outputs": []
    },
    {
      "cell_type": "code",
      "metadata": {
        "id": "iuXWlujx3H6j",
        "colab_type": "code",
        "colab": {}
      },
      "source": [
        "label_co_ass=apply_ccinfo_for_co_ass(mat_co_ass)"
      ],
      "execution_count": 0,
      "outputs": []
    },
    {
      "cell_type": "code",
      "metadata": {
        "id": "0_VOIoacOgre",
        "colab_type": "code",
        "outputId": "ade3ff8b-7909-4ae1-8ca3-8f5b59e0fac4",
        "colab": {
          "base_uri": "https://localhost:8080/",
          "height": 241
        }
      },
      "source": [
        "print_nmi_ari(label_co_ass,consensus_clustering_labels)"
      ],
      "execution_count": 25,
      "outputs": [
        {
          "output_type": "stream",
          "text": [
            "Ari :cluster_ensembele \n",
            "-0.0014124351789861342\n",
            "Ari :co_associasion : \n",
            "-0.0006119721555913699\n",
            "Nmi :cluster_ensembele \n",
            "0.009954672508992651\n",
            "NMI :cluster_ensembele \n",
            "0.0012200360174593867\n"
          ],
          "name": "stdout"
        },
        {
          "output_type": "stream",
          "text": [
            "/usr/local/lib/python3.6/dist-packages/sklearn/metrics/cluster/supervised.py:859: FutureWarning: The behavior of NMI will change in version 0.22. To match the behavior of 'v_measure_score', NMI will use average_method='arithmetic' by default.\n",
            "  FutureWarning)\n",
            "/usr/local/lib/python3.6/dist-packages/sklearn/metrics/cluster/supervised.py:859: FutureWarning: The behavior of NMI will change in version 0.22. To match the behavior of 'v_measure_score', NMI will use average_method='arithmetic' by default.\n",
            "  FutureWarning)\n"
          ],
          "name": "stderr"
        }
      ]
    },
    {
      "cell_type": "code",
      "metadata": {
        "id": "iO67FBb9Q6qs",
        "colab_type": "code",
        "colab": {}
      },
      "source": [
        "skmeans_model =spherical_kmeans.SphericalKmeans(n_clusters=nb_clusters)"
      ],
      "execution_count": 0,
      "outputs": []
    },
    {
      "cell_type": "code",
      "metadata": {
        "id": "pRn3G8UvRkuO",
        "colab_type": "code",
        "outputId": "b4a9c689-9d1b-428a-f563-9f9d3d1f86ab",
        "colab": {
          "base_uri": "https://localhost:8080/",
          "height": 714
        }
      },
      "source": [
        "skmeans_model.fit(data)"
      ],
      "execution_count": 27,
      "outputs": [
        {
          "output_type": "stream",
          "text": [
            " == New init == \n",
            "iteration: 0\n",
            "769.5268911840278\n",
            "iteration: 1\n",
            "895.7541865091952\n",
            "iteration: 2\n",
            "1013.4502867438404\n",
            "iteration: 3\n",
            "1045.7514469549697\n",
            "iteration: 4\n",
            "1056.7837748540942\n",
            "iteration: 5\n",
            "1062.309880883096\n",
            "iteration: 6\n",
            "1065.0168290094916\n",
            "iteration: 7\n",
            "1067.5655568426218\n",
            "iteration: 8\n",
            "1069.4372431342429\n",
            "iteration: 9\n",
            "1070.074934758374\n",
            "iteration: 10\n",
            "1070.2632096116154\n",
            "iteration: 11\n",
            "1070.3576993005524\n",
            "iteration: 12\n",
            "1070.3927338990632\n",
            "iteration: 13\n",
            "1070.4129652378133\n",
            "iteration: 14\n",
            "1070.4284472788063\n",
            "iteration: 15\n",
            "1070.4466529315368\n",
            "iteration: 16\n",
            "1070.470713154708\n",
            "iteration: 17\n",
            "1070.5422192808044\n",
            "iteration: 18\n",
            "1070.6349002043194\n",
            "iteration: 19\n",
            "1070.7799334289166\n"
          ],
          "name": "stdout"
        }
      ]
    },
    {
      "cell_type": "code",
      "metadata": {
        "id": "u4lMIom7U_Is",
        "colab_type": "code",
        "colab": {}
      },
      "source": [
        "skmeans_labels=skmeans_model.labels_"
      ],
      "execution_count": 0,
      "outputs": []
    },
    {
      "cell_type": "code",
      "metadata": {
        "id": "p3e3g83pVj7m",
        "colab_type": "code",
        "outputId": "4d643424-8003-4682-8d28-60c42c74a377",
        "colab": {
          "base_uri": "https://localhost:8080/",
          "height": 105
        }
      },
      "source": [
        "print(ari(True_labels.flatten(),skmeans_labels))\n",
        "print(nmi(True_labels.flatten(),skmeans_labels))"
      ],
      "execution_count": 29,
      "outputs": [
        {
          "output_type": "stream",
          "text": [
            "0.3075354462629518\n",
            "0.47456026516524896\n"
          ],
          "name": "stdout"
        },
        {
          "output_type": "stream",
          "text": [
            "/usr/local/lib/python3.6/dist-packages/sklearn/metrics/cluster/supervised.py:859: FutureWarning: The behavior of NMI will change in version 0.22. To match the behavior of 'v_measure_score', NMI will use average_method='arithmetic' by default.\n",
            "  FutureWarning)\n"
          ],
          "name": "stderr"
        }
      ]
    },
    {
      "cell_type": "code",
      "metadata": {
        "id": "168806ihVK03",
        "colab_type": "code",
        "colab": {}
      },
      "source": [
        "best_five_labels_sk=best_five_labels\n",
        "best_five_labels_sk.append(skmeans_labels)"
      ],
      "execution_count": 0,
      "outputs": []
    },
    {
      "cell_type": "code",
      "metadata": {
        "id": "LWewLYdeavOC",
        "colab_type": "code",
        "outputId": "28b86f75-7d3f-4b3a-c4b2-d96803a9d978",
        "colab": {
          "base_uri": "https://localhost:8080/",
          "height": 1000
        }
      },
      "source": [
        "consensus_clustering_labels_sk = apply_cluster_ens_for_bestfive(best_five_labels_sk)"
      ],
      "execution_count": 31,
      "outputs": [
        {
          "output_type": "stream",
          "text": [
            "*****\n",
            "INFO: Cluster_Ensembles: CSPA: consensus clustering using CSPA.\n",
            "\n",
            "#\n",
            "INFO: Cluster_Ensembles: wgraph: writing wgraph_CSPA.\n",
            "#\n",
            "\n",
            "#\n",
            "INFO: Cluster_Ensembles: sgraph: calling gpmetis for graph partitioning.\n",
            "INFO: Cluster_Ensembles: sgraph: (hyper)-graph partitioning completed; loading wgraph_CSPA.part.4\n",
            "#\n"
          ],
          "name": "stdout"
        },
        {
          "output_type": "stream",
          "text": [
            "/usr/local/lib/python3.6/dist-packages/sklearn/metrics/cluster/supervised.py:859: FutureWarning: The behavior of NMI will change in version 0.22. To match the behavior of 'v_measure_score', NMI will use average_method='arithmetic' by default.\n",
            "  FutureWarning)\n",
            "/usr/local/lib/python3.6/dist-packages/sklearn/metrics/cluster/supervised.py:859: FutureWarning: The behavior of NMI will change in version 0.22. To match the behavior of 'v_measure_score', NMI will use average_method='arithmetic' by default.\n",
            "  FutureWarning)\n",
            "/usr/local/lib/python3.6/dist-packages/sklearn/metrics/cluster/supervised.py:859: FutureWarning: The behavior of NMI will change in version 0.22. To match the behavior of 'v_measure_score', NMI will use average_method='arithmetic' by default.\n",
            "  FutureWarning)\n",
            "/usr/local/lib/python3.6/dist-packages/sklearn/metrics/cluster/supervised.py:859: FutureWarning: The behavior of NMI will change in version 0.22. To match the behavior of 'v_measure_score', NMI will use average_method='arithmetic' by default.\n",
            "  FutureWarning)\n",
            "/usr/local/lib/python3.6/dist-packages/sklearn/metrics/cluster/supervised.py:859: FutureWarning: The behavior of NMI will change in version 0.22. To match the behavior of 'v_measure_score', NMI will use average_method='arithmetic' by default.\n",
            "  FutureWarning)\n",
            "/usr/local/lib/python3.6/dist-packages/sklearn/metrics/cluster/supervised.py:859: FutureWarning: The behavior of NMI will change in version 0.22. To match the behavior of 'v_measure_score', NMI will use average_method='arithmetic' by default.\n",
            "  FutureWarning)\n"
          ],
          "name": "stderr"
        },
        {
          "output_type": "stream",
          "text": [
            "\n",
            "INFO: Cluster_Ensembles: cluster_ensembles: CSPA at 0.013488696728527644.\n",
            "*****\n",
            "\n",
            "*****\n",
            "INFO: Cluster_Ensembles: HGPA: consensus clustering using HGPA.\n",
            "\n",
            "#\n",
            "INFO: Cluster_Ensembles: wgraph: writing wgraph_HGPA.\n",
            "INFO: Cluster_Ensembles: wgraph: 7094 vertices and 24 non-zero hyper-edges.\n",
            "#\n",
            "\n",
            "#\n",
            "INFO: Cluster_Ensembles: sgraph: calling shmetis for hypergraph partitioning.\n",
            "INFO: Cluster_Ensembles: sgraph: (hyper)-graph partitioning completed; loading wgraph_HGPA.part.4\n",
            "#\n"
          ],
          "name": "stdout"
        },
        {
          "output_type": "stream",
          "text": [
            "/usr/local/lib/python3.6/dist-packages/sklearn/metrics/cluster/supervised.py:859: FutureWarning: The behavior of NMI will change in version 0.22. To match the behavior of 'v_measure_score', NMI will use average_method='arithmetic' by default.\n",
            "  FutureWarning)\n",
            "/usr/local/lib/python3.6/dist-packages/sklearn/metrics/cluster/supervised.py:859: FutureWarning: The behavior of NMI will change in version 0.22. To match the behavior of 'v_measure_score', NMI will use average_method='arithmetic' by default.\n",
            "  FutureWarning)\n",
            "/usr/local/lib/python3.6/dist-packages/sklearn/metrics/cluster/supervised.py:859: FutureWarning: The behavior of NMI will change in version 0.22. To match the behavior of 'v_measure_score', NMI will use average_method='arithmetic' by default.\n",
            "  FutureWarning)\n",
            "/usr/local/lib/python3.6/dist-packages/sklearn/metrics/cluster/supervised.py:859: FutureWarning: The behavior of NMI will change in version 0.22. To match the behavior of 'v_measure_score', NMI will use average_method='arithmetic' by default.\n",
            "  FutureWarning)\n",
            "/usr/local/lib/python3.6/dist-packages/sklearn/metrics/cluster/supervised.py:859: FutureWarning: The behavior of NMI will change in version 0.22. To match the behavior of 'v_measure_score', NMI will use average_method='arithmetic' by default.\n",
            "  FutureWarning)\n",
            "/usr/local/lib/python3.6/dist-packages/sklearn/metrics/cluster/supervised.py:859: FutureWarning: The behavior of NMI will change in version 0.22. To match the behavior of 'v_measure_score', NMI will use average_method='arithmetic' by default.\n",
            "  FutureWarning)\n"
          ],
          "name": "stderr"
        },
        {
          "output_type": "stream",
          "text": [
            "\n",
            "INFO: Cluster_Ensembles: cluster_ensembles: HGPA at 0.011702847262718655.\n",
            "*****\n",
            "\n",
            "*****\n",
            "INFO: Cluster_Ensembles: MCLA: consensus clustering using MCLA.\n",
            "INFO: Cluster_Ensembles: MCLA: preparing graph for meta-clustering.\n",
            "INFO: Cluster_Ensembles: MCLA: done filling hypergraph adjacency matrix. Starting computation of Jaccard similarity matrix.\n",
            "INFO: Cluster_Ensembles: MCLA: starting computation of Jaccard similarity matrix.\n",
            "INFO: Cluster_Ensembles: MCLA: done computing the matrix of pairwise Jaccard similarity scores.\n",
            "\n",
            "#\n",
            "INFO: Cluster_Ensembles: wgraph: writing wgraph_MCLA.\n",
            "#\n",
            "\n",
            "#\n",
            "INFO: Cluster_Ensembles: sgraph: calling gpmetis for graph partitioning.\n",
            "INFO: Cluster_Ensembles: sgraph: (hyper)-graph partitioning completed; loading wgraph_MCLA.part.4\n",
            "#\n",
            "INFO: Cluster_Ensembles: MCLA: delivering 3 clusters.\n",
            "INFO: Cluster_Ensembles: MCLA: average posterior probability is 0.5548308187467293\n",
            "\n",
            "INFO: Cluster_Ensembles: cluster_ensembles: MCLA at 0.13662179949485542.\n",
            "*****\n"
          ],
          "name": "stdout"
        },
        {
          "output_type": "stream",
          "text": [
            "/usr/local/lib/python3.6/dist-packages/sklearn/metrics/cluster/supervised.py:859: FutureWarning: The behavior of NMI will change in version 0.22. To match the behavior of 'v_measure_score', NMI will use average_method='arithmetic' by default.\n",
            "  FutureWarning)\n",
            "/usr/local/lib/python3.6/dist-packages/sklearn/metrics/cluster/supervised.py:859: FutureWarning: The behavior of NMI will change in version 0.22. To match the behavior of 'v_measure_score', NMI will use average_method='arithmetic' by default.\n",
            "  FutureWarning)\n",
            "/usr/local/lib/python3.6/dist-packages/sklearn/metrics/cluster/supervised.py:859: FutureWarning: The behavior of NMI will change in version 0.22. To match the behavior of 'v_measure_score', NMI will use average_method='arithmetic' by default.\n",
            "  FutureWarning)\n",
            "/usr/local/lib/python3.6/dist-packages/sklearn/metrics/cluster/supervised.py:859: FutureWarning: The behavior of NMI will change in version 0.22. To match the behavior of 'v_measure_score', NMI will use average_method='arithmetic' by default.\n",
            "  FutureWarning)\n",
            "/usr/local/lib/python3.6/dist-packages/sklearn/metrics/cluster/supervised.py:859: FutureWarning: The behavior of NMI will change in version 0.22. To match the behavior of 'v_measure_score', NMI will use average_method='arithmetic' by default.\n",
            "  FutureWarning)\n",
            "/usr/local/lib/python3.6/dist-packages/sklearn/metrics/cluster/supervised.py:859: FutureWarning: The behavior of NMI will change in version 0.22. To match the behavior of 'v_measure_score', NMI will use average_method='arithmetic' by default.\n",
            "  FutureWarning)\n"
          ],
          "name": "stderr"
        }
      ]
    },
    {
      "cell_type": "code",
      "metadata": {
        "id": "cWL-Hxz7ZB0K",
        "colab_type": "code",
        "colab": {}
      },
      "source": [
        "mat_co_ass_sk=co_ass_matrix(best_five_labels_sk)"
      ],
      "execution_count": 0,
      "outputs": []
    },
    {
      "cell_type": "code",
      "metadata": {
        "id": "erCU9cOq2LSb",
        "colab_type": "code",
        "colab": {}
      },
      "source": [
        "label_co_ass_sk=apply_ccinfo_for_co_ass(mat_co_ass_sk)"
      ],
      "execution_count": 0,
      "outputs": []
    },
    {
      "cell_type": "code",
      "metadata": {
        "colab_type": "code",
        "id": "nWpem3pXovBz",
        "outputId": "9774cfd0-1914-439e-f4d1-f3c6d8158523",
        "colab": {
          "base_uri": "https://localhost:8080/",
          "height": 241
        }
      },
      "source": [
        "print_nmi_ari(label_co_ass_sk,consensus_clustering_labels_sk)"
      ],
      "execution_count": 34,
      "outputs": [
        {
          "output_type": "stream",
          "text": [
            "Ari :cluster_ensembele \n",
            "-0.0014124351789861342\n",
            "Ari :co_associasion : \n",
            "0.013712648037247225\n",
            "Nmi :cluster_ensembele \n",
            "0.009954672508992651\n",
            "NMI :cluster_ensembele \n",
            "0.11537134304816465\n"
          ],
          "name": "stdout"
        },
        {
          "output_type": "stream",
          "text": [
            "/usr/local/lib/python3.6/dist-packages/sklearn/metrics/cluster/supervised.py:859: FutureWarning: The behavior of NMI will change in version 0.22. To match the behavior of 'v_measure_score', NMI will use average_method='arithmetic' by default.\n",
            "  FutureWarning)\n",
            "/usr/local/lib/python3.6/dist-packages/sklearn/metrics/cluster/supervised.py:859: FutureWarning: The behavior of NMI will change in version 0.22. To match the behavior of 'v_measure_score', NMI will use average_method='arithmetic' by default.\n",
            "  FutureWarning)\n"
          ],
          "name": "stderr"
        }
      ]
    },
    {
      "cell_type": "markdown",
      "metadata": {
        "id": "E9LFEQy1JlBd",
        "colab_type": "text"
      },
      "source": [
        "Affichage final"
      ]
    },
    {
      "cell_type": "code",
      "metadata": {
        "id": "JJhySTf4JNsu",
        "colab_type": "code",
        "outputId": "f6fb3213-c7c7-49f3-962e-bdbe1a39a366",
        "colab": {
          "base_uri": "https://localhost:8080/",
          "height": 479
        }
      },
      "source": [
        "print(\"result (nb_cluster_col=nb_cluster_row=true_clusters) without skmeans \" )\n",
        "print_nmi_ari(label_co_ass,consensus_clustering_labels)\n",
        "print(\"result (nb_cluster_col=nb_cluster_row=true_clusters) with skmeans \" )\n",
        "print_nmi_ari(label_co_ass_sk,consensus_clustering_labels_sk)\n"
      ],
      "execution_count": 35,
      "outputs": [
        {
          "output_type": "stream",
          "text": [
            "result (nb_cluster_col=nb_cluster_row=true_clusters) without skmeans \n",
            "Ari :cluster_ensembele \n",
            "-0.0014124351789861342\n",
            "Ari :co_associasion : \n",
            "-0.0006119721555913699\n",
            "Nmi :cluster_ensembele \n",
            "0.009954672508992651\n",
            "NMI :cluster_ensembele \n",
            "0.0012200360174593867\n",
            "result (nb_cluster_col=nb_cluster_row=true_clusters) with skmeans \n",
            "Ari :cluster_ensembele \n",
            "-0.0014124351789861342\n",
            "Ari :co_associasion : \n",
            "0.013712648037247225\n",
            "Nmi :cluster_ensembele \n",
            "0.009954672508992651\n",
            "NMI :cluster_ensembele \n",
            "0.11537134304816465\n"
          ],
          "name": "stdout"
        },
        {
          "output_type": "stream",
          "text": [
            "/usr/local/lib/python3.6/dist-packages/sklearn/metrics/cluster/supervised.py:859: FutureWarning: The behavior of NMI will change in version 0.22. To match the behavior of 'v_measure_score', NMI will use average_method='arithmetic' by default.\n",
            "  FutureWarning)\n",
            "/usr/local/lib/python3.6/dist-packages/sklearn/metrics/cluster/supervised.py:859: FutureWarning: The behavior of NMI will change in version 0.22. To match the behavior of 'v_measure_score', NMI will use average_method='arithmetic' by default.\n",
            "  FutureWarning)\n",
            "/usr/local/lib/python3.6/dist-packages/sklearn/metrics/cluster/supervised.py:859: FutureWarning: The behavior of NMI will change in version 0.22. To match the behavior of 'v_measure_score', NMI will use average_method='arithmetic' by default.\n",
            "  FutureWarning)\n",
            "/usr/local/lib/python3.6/dist-packages/sklearn/metrics/cluster/supervised.py:859: FutureWarning: The behavior of NMI will change in version 0.22. To match the behavior of 'v_measure_score', NMI will use average_method='arithmetic' by default.\n",
            "  FutureWarning)\n"
          ],
          "name": "stderr"
        }
      ]
    },
    {
      "cell_type": "code",
      "metadata": {
        "id": "QJlU2mrKLH-b",
        "colab_type": "code",
        "colab": {}
      },
      "source": [
        ""
      ],
      "execution_count": 0,
      "outputs": []
    }
  ]
}