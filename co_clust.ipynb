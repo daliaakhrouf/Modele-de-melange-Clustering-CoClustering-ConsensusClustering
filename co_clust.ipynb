{
 "cells": [
  {
   "cell_type": "code",
   "execution_count": 1,
   "metadata": {
    "id": "qn-RThjx3jvk",
    "colab_type": "code",
    "outputId": "48c76fde-5da6-4482-ea9e-5a663b1de7ef",
    "colab": {
     "base_uri": "https://localhost:8080/",
     "height": 122.0
    }
   },
   "outputs": [
    {
     "name": "stdout",
     "output_type": "stream",
     "text": [
      "Requirement already satisfied: coclust in /usr/local/lib/python3.6/dist-packages (0.2.1)\n",
      "Requirement already satisfied: scipy in /usr/local/lib/python3.6/dist-packages (from coclust) (1.3.2)\n",
      "Requirement already satisfied: scikit-learn in /usr/local/lib/python3.6/dist-packages (from coclust) (0.21.3)\n",
      "Requirement already satisfied: numpy in /usr/local/lib/python3.6/dist-packages (from coclust) (1.17.4)\n",
      "Requirement already satisfied: joblib>=0.11 in /usr/local/lib/python3.6/dist-packages (from scikit-learn->coclust) (0.14.0)\n"
     ]
    }
   ],
   "source": [
    "!pip install coclust "
   ]
  },
  {
   "cell_type": "code",
   "execution_count": 2,
   "metadata": {
    "id": "GcSaa9dk3uQM",
    "colab_type": "code",
    "outputId": "f22ad59d-b3fb-4807-a9b0-93e99dbc5d82",
    "colab": {
     "base_uri": "https://localhost:8080/",
     "height": 102.0
    }
   },
   "outputs": [
    {
     "name": "stdout",
     "output_type": "stream",
     "text": [
      "Reading package lists... Done\n",
      "Building dependency tree       \n",
      "Reading state information... Done\n",
      "metis is already the newest version (5.1.0.dfsg-5).\n",
      "0 upgraded, 0 newly installed, 0 to remove and 29 not upgraded.\n"
     ]
    }
   ],
   "source": [
    "!sudo apt install metis"
   ]
  },
  {
   "cell_type": "markdown",
   "metadata": {
    "id": "m6WJNZqR7qlj",
    "colab_type": "text"
   },
   "source": [
    ""
   ]
  },
  {
   "cell_type": "code",
   "execution_count": 3,
   "metadata": {
    "id": "Xv-X3jy934K0",
    "colab_type": "code",
    "outputId": "028b7fd2-1bf2-4599-edab-0294e0d51f06",
    "colab": {
     "base_uri": "https://localhost:8080/",
     "height": 360.0
    }
   },
   "outputs": [
    {
     "name": "stdout",
     "output_type": "stream",
     "text": [
      "Collecting git+git://github.com/GGiecold/Cluster_Ensembles.git\n",
      "  Cloning git://github.com/GGiecold/Cluster_Ensembles.git to /tmp/pip-req-build-dkl3a83a\n",
      "  Running command git clone -q git://github.com/GGiecold/Cluster_Ensembles.git /tmp/pip-req-build-dkl3a83a\n",
      "Requirement already satisfied (use --upgrade to upgrade): Cluster-Ensembles==1.16 from git+git://github.com/GGiecold/Cluster_Ensembles.git in /usr/local/lib/python3.6/dist-packages\n",
      "Requirement already satisfied: numexpr>=2.4 in /usr/local/lib/python3.6/dist-packages (from Cluster-Ensembles==1.16) (2.7.0)\n",
      "Requirement already satisfied: numpy>=1.9.0 in /usr/local/lib/python3.6/dist-packages (from Cluster-Ensembles==1.16) (1.17.4)\n",
      "Requirement already satisfied: psutil in /usr/local/lib/python3.6/dist-packages (from Cluster-Ensembles==1.16) (5.4.8)\n",
      "Requirement already satisfied: scipy in /usr/local/lib/python3.6/dist-packages (from Cluster-Ensembles==1.16) (1.3.2)\n",
      "Requirement already satisfied: sklearn in /usr/local/lib/python3.6/dist-packages (from Cluster-Ensembles==1.16) (0.0)\n",
      "Requirement already satisfied: setuptools in /usr/local/lib/python3.6/dist-packages (from Cluster-Ensembles==1.16) (41.6.0)\n",
      "Requirement already satisfied: tables in /usr/local/lib/python3.6/dist-packages (from Cluster-Ensembles==1.16) (3.4.4)\n",
      "Requirement already satisfied: scikit-learn in /usr/local/lib/python3.6/dist-packages (from sklearn->Cluster-Ensembles==1.16) (0.21.3)\n",
      "Requirement already satisfied: six>=1.9.0 in /usr/local/lib/python3.6/dist-packages (from tables->Cluster-Ensembles==1.16) (1.12.0)\n",
      "Requirement already satisfied: joblib>=0.11 in /usr/local/lib/python3.6/dist-packages (from scikit-learn->sklearn->Cluster-Ensembles==1.16) (0.14.0)\n",
      "Building wheels for collected packages: Cluster-Ensembles\n",
      "  Building wheel for Cluster-Ensembles (setup.py) ... \u001b[?25l\u001b[?25hdone\n",
      "  Created wheel for Cluster-Ensembles: filename=Cluster_Ensembles-1.16-cp36-none-any.whl size=5332957 sha256=e7f576cc498a0b7254c0b525a83582d49b4b7e3868ad1ad3539f05a81b4cb8bb\n",
      "  Stored in directory: /tmp/pip-ephem-wheel-cache-232aqc_i/wheels/d8/4c/1a/99b5178b447053900f1144feaa990df0a5858f8eac0fac8ce6\n",
      "Successfully built Cluster-Ensembles\n"
     ]
    }
   ],
   "source": [
    "!pip install git+git://github.com/GGiecold/Cluster_Ensembles.git"
   ]
  },
  {
   "cell_type": "code",
   "execution_count": 0,
   "metadata": {
    "id": "PdOx55an7F_q",
    "colab_type": "code",
    "colab": {}
   },
   "outputs": [],
   "source": [
    "import numpy as np, scipy.sparse as sp, scipy.io as io\n",
    "from sklearn.metrics import confusion_matrix\n",
    "from coclust.coclustering import (CoclustMod, CoclustSpecMod,CoclustInfo)\n",
    "from coclust.visualization import plot_reorganized_matrix\n",
    "from sklearn.metrics.cluster import normalized_mutual_info_score as nmi\n",
    "from sklearn.metrics.cluster import adjusted_rand_score as ari\n",
    "import Cluster_Ensembles as CE\n",
    "import sklearn as sc\n",
    "import numexpr as nu\n",
    "from coclust.clustering import spherical_kmeans\n",
    "from random import *"
   ]
  },
  {
   "cell_type": "code",
   "execution_count": 0,
   "metadata": {
    "id": "H7vwDLoU7F_x",
    "colab_type": "code",
    "colab": {}
   },
   "outputs": [],
   "source": [
    "data=io.loadmat(\"classic4_ti_n.mat\").get(\"dtm\")\n",
    "True_labels= io.loadmat(\"classic4.mat\").get(\"labels\")"
   ]
  },
  {
   "cell_type": "code",
   "execution_count": 0,
   "metadata": {
    "id": "3pKhxh9C7F_-",
    "colab_type": "code",
    "colab": {}
   },
   "outputs": [],
   "source": [
    "nb_clusters=np.max(True_labels)+1"
   ]
  },
  {
   "cell_type": "code",
   "execution_count": 0,
   "metadata": {
    "id": "-GAIVW_77GAD",
    "colab_type": "code",
    "colab": {}
   },
   "outputs": [],
   "source": [
    "def best_five_ccinfo(data,nb_row_clust,nb_col_clust):\n",
    "\n",
    "  cr=[]\n",
    "  labels=[]\n",
    "  for i in range(10):\n",
    "    \n",
    "    num_model=i\n",
    "    model = CoclustInfo(n_row_clusters=nb_row_clust, n_col_clusters=nb_col_clust,max_iter=randrange(2,15),\n",
    "                n_init=randrange(2,20), random_state=randrange(5,15))\n",
    "    model.fit(data)\n",
    "    \n",
    "    cr.append(model.criterion)\n",
    "    predicted_row_labels = model.row_labels_\n",
    "    labels.append(predicted_row_labels)\n",
    "  best_labels=[]\n",
    "  indices = np.argsort(cr)[::-1][:5]\n",
    "  print(\"best five vriterion :\")\n",
    "  for i in indices:\n",
    "    \n",
    "    print(cr[i])\n",
    "    best_labels.append(labels[i])\n",
    " \n",
    "  return best_labels"
   ]
  },
  {
   "cell_type": "code",
   "execution_count": 8,
   "metadata": {
    "id": "Fe2ftqWVQSpt",
    "colab_type": "code",
    "outputId": "53f1c101-7bd4-4fc2-f2eb-c920bd062ac1",
    "colab": {
     "base_uri": "https://localhost:8080/",
     "height": 119.0
    }
   },
   "outputs": [
    {
     "name": "stdout",
     "output_type": "stream",
     "text": [
      "best five vriterion :\n",
      "0.413749841996086\n",
      "0.413749841996086\n",
      "0.40922528571323796\n",
      "0.40646953609802483\n",
      "0.3784658602125864\n"
     ]
    }
   ],
   "source": [
    "best_five_labels=best_five_ccinfo(data,nb_row_clust=nb_clusters,nb_col_clust=nb_clusters)"
   ]
  },
  {
   "cell_type": "code",
   "execution_count": 0,
   "metadata": {
    "id": "IMcZZYeA-HL3",
    "colab_type": "code",
    "colab": {}
   },
   "outputs": [],
   "source": [
    "def apply_cluster_ens_for_bestfive(best_five_labels):\n",
    "  return  CE.cluster_ensembles(np.array(best_five_labels), verbose = True, N_clusters_max = nb_clusters)"
   ]
  },
  {
   "cell_type": "code",
   "execution_count": 10,
   "metadata": {
    "id": "F1ILYk5n7GA1",
    "colab_type": "code",
    "outputId": "ca201e77-6a29-4749-9bd1-d1b009ac2fe3",
    "colab": {
     "base_uri": "https://localhost:8080/",
     "height": 1000.0
    }
   },
   "outputs": [
    {
     "name": "stdout",
     "output_type": "stream",
     "text": [
      "*****\n",
      "INFO: Cluster_Ensembles: CSPA: consensus clustering using CSPA.\n",
      "\n",
      "#\n",
      "INFO: Cluster_Ensembles: wgraph: writing wgraph_CSPA.\n",
      "#\n",
      "\n",
      "#\n",
      "INFO: Cluster_Ensembles: sgraph: calling gpmetis for graph partitioning.\n",
      "INFO: Cluster_Ensembles: sgraph: (hyper)-graph partitioning completed; loading wgraph_CSPA.part.4\n",
      "#\n"
     ]
    },
    {
     "name": "stderr",
     "output_type": "stream",
     "text": [
      "/usr/local/lib/python3.6/dist-packages/sklearn/metrics/cluster/supervised.py:859: FutureWarning: The behavior of NMI will change in version 0.22. To match the behavior of 'v_measure_score', NMI will use average_method='arithmetic' by default.\n",
      "  FutureWarning)\n",
      "/usr/local/lib/python3.6/dist-packages/sklearn/metrics/cluster/supervised.py:859: FutureWarning: The behavior of NMI will change in version 0.22. To match the behavior of 'v_measure_score', NMI will use average_method='arithmetic' by default.\n",
      "  FutureWarning)\n",
      "/usr/local/lib/python3.6/dist-packages/sklearn/metrics/cluster/supervised.py:859: FutureWarning: The behavior of NMI will change in version 0.22. To match the behavior of 'v_measure_score', NMI will use average_method='arithmetic' by default.\n",
      "  FutureWarning)\n",
      "/usr/local/lib/python3.6/dist-packages/sklearn/metrics/cluster/supervised.py:859: FutureWarning: The behavior of NMI will change in version 0.22. To match the behavior of 'v_measure_score', NMI will use average_method='arithmetic' by default.\n",
      "  FutureWarning)\n",
      "/usr/local/lib/python3.6/dist-packages/sklearn/metrics/cluster/supervised.py:859: FutureWarning: The behavior of NMI will change in version 0.22. To match the behavior of 'v_measure_score', NMI will use average_method='arithmetic' by default.\n",
      "  FutureWarning)\n"
     ]
    },
    {
     "name": "stdout",
     "output_type": "stream",
     "text": [
      "\n",
      "INFO: Cluster_Ensembles: cluster_ensembles: CSPA at 0.6391544145167075.\n",
      "*****\n",
      "\n",
      "*****\n",
      "INFO: Cluster_Ensembles: HGPA: consensus clustering using HGPA.\n",
      "\n",
      "#\n",
      "INFO: Cluster_Ensembles: wgraph: writing wgraph_HGPA.\n",
      "INFO: Cluster_Ensembles: wgraph: 7094 vertices and 20 non-zero hyper-edges.\n",
      "#\n",
      "\n",
      "#\n",
      "INFO: Cluster_Ensembles: sgraph: calling shmetis for hypergraph partitioning.\n",
      "INFO: Cluster_Ensembles: sgraph: (hyper)-graph partitioning completed; loading wgraph_HGPA.part.4\n",
      "#\n"
     ]
    },
    {
     "name": "stderr",
     "output_type": "stream",
     "text": [
      "/usr/local/lib/python3.6/dist-packages/sklearn/metrics/cluster/supervised.py:859: FutureWarning: The behavior of NMI will change in version 0.22. To match the behavior of 'v_measure_score', NMI will use average_method='arithmetic' by default.\n",
      "  FutureWarning)\n",
      "/usr/local/lib/python3.6/dist-packages/sklearn/metrics/cluster/supervised.py:859: FutureWarning: The behavior of NMI will change in version 0.22. To match the behavior of 'v_measure_score', NMI will use average_method='arithmetic' by default.\n",
      "  FutureWarning)\n",
      "/usr/local/lib/python3.6/dist-packages/sklearn/metrics/cluster/supervised.py:859: FutureWarning: The behavior of NMI will change in version 0.22. To match the behavior of 'v_measure_score', NMI will use average_method='arithmetic' by default.\n",
      "  FutureWarning)\n",
      "/usr/local/lib/python3.6/dist-packages/sklearn/metrics/cluster/supervised.py:859: FutureWarning: The behavior of NMI will change in version 0.22. To match the behavior of 'v_measure_score', NMI will use average_method='arithmetic' by default.\n",
      "  FutureWarning)\n",
      "/usr/local/lib/python3.6/dist-packages/sklearn/metrics/cluster/supervised.py:859: FutureWarning: The behavior of NMI will change in version 0.22. To match the behavior of 'v_measure_score', NMI will use average_method='arithmetic' by default.\n",
      "  FutureWarning)\n"
     ]
    },
    {
     "name": "stdout",
     "output_type": "stream",
     "text": [
      "\n",
      "INFO: Cluster_Ensembles: cluster_ensembles: HGPA at 0.16163187460404776.\n",
      "*****\n",
      "\n",
      "*****\n",
      "INFO: Cluster_Ensembles: MCLA: consensus clustering using MCLA.\n",
      "INFO: Cluster_Ensembles: MCLA: preparing graph for meta-clustering.\n",
      "INFO: Cluster_Ensembles: MCLA: done filling hypergraph adjacency matrix. Starting computation of Jaccard similarity matrix.\n",
      "INFO: Cluster_Ensembles: MCLA: starting computation of Jaccard similarity matrix.\n",
      "INFO: Cluster_Ensembles: MCLA: done computing the matrix of pairwise Jaccard similarity scores.\n",
      "\n",
      "#\n",
      "INFO: Cluster_Ensembles: wgraph: writing wgraph_MCLA.\n",
      "#\n",
      "\n",
      "#\n",
      "INFO: Cluster_Ensembles: sgraph: calling gpmetis for graph partitioning.\n",
      "INFO: Cluster_Ensembles: sgraph: (hyper)-graph partitioning completed; loading wgraph_MCLA.part.4\n",
      "#\n",
      "INFO: Cluster_Ensembles: MCLA: delivering 4 clusters.\n",
      "INFO: Cluster_Ensembles: MCLA: average posterior probability is 0.46545545561240276\n",
      "\n",
      "INFO: Cluster_Ensembles: cluster_ensembles: MCLA at 0.7179738629541415.\n",
      "*****\n"
     ]
    },
    {
     "name": "stderr",
     "output_type": "stream",
     "text": [
      "/usr/local/lib/python3.6/dist-packages/sklearn/metrics/cluster/supervised.py:859: FutureWarning: The behavior of NMI will change in version 0.22. To match the behavior of 'v_measure_score', NMI will use average_method='arithmetic' by default.\n",
      "  FutureWarning)\n",
      "/usr/local/lib/python3.6/dist-packages/sklearn/metrics/cluster/supervised.py:859: FutureWarning: The behavior of NMI will change in version 0.22. To match the behavior of 'v_measure_score', NMI will use average_method='arithmetic' by default.\n",
      "  FutureWarning)\n",
      "/usr/local/lib/python3.6/dist-packages/sklearn/metrics/cluster/supervised.py:859: FutureWarning: The behavior of NMI will change in version 0.22. To match the behavior of 'v_measure_score', NMI will use average_method='arithmetic' by default.\n",
      "  FutureWarning)\n",
      "/usr/local/lib/python3.6/dist-packages/sklearn/metrics/cluster/supervised.py:859: FutureWarning: The behavior of NMI will change in version 0.22. To match the behavior of 'v_measure_score', NMI will use average_method='arithmetic' by default.\n",
      "  FutureWarning)\n",
      "/usr/local/lib/python3.6/dist-packages/sklearn/metrics/cluster/supervised.py:859: FutureWarning: The behavior of NMI will change in version 0.22. To match the behavior of 'v_measure_score', NMI will use average_method='arithmetic' by default.\n",
      "  FutureWarning)\n"
     ]
    }
   ],
   "source": [
    "consensus_clustering_labels = apply_cluster_ens_for_bestfive(best_five_labels)"
   ]
  },
  {
   "cell_type": "code",
   "execution_count": 0,
   "metadata": {
    "id": "f76-4daJ9biq",
    "colab_type": "code",
    "colab": {}
   },
   "outputs": [],
   "source": [
    "def _init_coass_matrix(lab):\n",
    "  M = np.zeros(shape=(data.shape[0],data.shape[0]))\n",
    "  for i in range(data.shape[0]):\n",
    "    for j in range(len(lab)):\n",
    "      if(lab[j]==lab[i]):\n",
    "        M[i,j]=1\n",
    "  return M "
   ]
  },
  {
   "cell_type": "code",
   "execution_count": 0,
   "metadata": {
    "id": "1Ftkn0JlIP8J",
    "colab_type": "code",
    "colab": {}
   },
   "outputs": [],
   "source": [
    "def co_ass_matrix(best_labels):\n",
    "\n",
    "  mat_co_ass=np.zeros(shape=(data.shape[0],data.shape[0]))\n",
    "  for lab in best_labels:\n",
    "    mat_co_ass=mat_co_ass+_init_coass_matrix(lab)\n",
    "  mat_co_ass=mat_co_ass/5\n",
    "  return mat_co_ass"
   ]
  },
  {
   "cell_type": "code",
   "execution_count": 0,
   "metadata": {
    "id": "mEocOAjX7UUh",
    "colab_type": "code",
    "colab": {}
   },
   "outputs": [],
   "source": [
    "def apply_ccinfo_for_co_ass(mat_co_ass,nb_col_clust,nb_row_clust):\n",
    "  model_co_ass=CoclustInfo(n_col_clusters=nb_col_clust,n_row_clusters=nb_row_clust)\n",
    "  model_co_ass.fit(mat_co_ass)\n",
    "  return model_co_ass.row_labels_"
   ]
  },
  {
   "cell_type": "code",
   "execution_count": 0,
   "metadata": {
    "id": "KMX7_EBW8S82",
    "colab_type": "code",
    "colab": {}
   },
   "outputs": [],
   "source": [
    "def print_nmi_ari(label_co_as,consensus_clustering_labels):\n",
    "  print('Ari :cluster_ensembele ')\n",
    "  print(ari(True_labels.flatten(),label_co_ass))\n",
    "  print('Ari :co_associasion : ')\n",
    "  print(ari(True_labels.flatten(),consensus_clustering_labels))\n",
    "  print('Nmi :cluster_ensembele ')\n",
    "  print(nmi(True_labels.flatten(),label_co_ass))\n",
    "  print('NMI :cluster_ensembele ')\n",
    "  print(nmi(True_labels.flatten(),consensus_clustering_labels))"
   ]
  },
  {
   "cell_type": "code",
   "execution_count": 0,
   "metadata": {
    "id": "k3oMJcu2KBhd",
    "colab_type": "code",
    "colab": {}
   },
   "outputs": [],
   "source": [
    "mat_co_ass=co_ass_matrix(best_five_labels)\n"
   ]
  },
  {
   "cell_type": "code",
   "execution_count": 0,
   "metadata": {
    "id": "iuXWlujx3H6j",
    "colab_type": "code",
    "colab": {}
   },
   "outputs": [],
   "source": [
    "label_co_ass=apply_ccinfo_for_co_ass(mat_co_ass,nb_col_clust=nb_clusters,nb_row_clust=nb_clusters)"
   ]
  },
  {
   "cell_type": "code",
   "execution_count": 17,
   "metadata": {
    "id": "0_VOIoacOgre",
    "colab_type": "code",
    "colab": {
     "base_uri": "https://localhost:8080/",
     "height": 241.0
    },
    "outputId": "829ea4de-bfdf-47ad-86a9-b2ef10f0aea2"
   },
   "outputs": [
    {
     "name": "stdout",
     "output_type": "stream",
     "text": [
      "Ari :cluster_ensembele \n",
      "0.3693622039585209\n",
      "Ari :co_associasion : \n",
      "0.5147201824482526\n",
      "Nmi :cluster_ensembele \n",
      "0.54201365498749\n",
      "NMI :cluster_ensembele \n",
      "0.6402344923313746\n"
     ]
    },
    {
     "name": "stderr",
     "output_type": "stream",
     "text": [
      "/usr/local/lib/python3.6/dist-packages/sklearn/metrics/cluster/supervised.py:859: FutureWarning: The behavior of NMI will change in version 0.22. To match the behavior of 'v_measure_score', NMI will use average_method='arithmetic' by default.\n",
      "  FutureWarning)\n",
      "/usr/local/lib/python3.6/dist-packages/sklearn/metrics/cluster/supervised.py:859: FutureWarning: The behavior of NMI will change in version 0.22. To match the behavior of 'v_measure_score', NMI will use average_method='arithmetic' by default.\n",
      "  FutureWarning)\n"
     ]
    }
   ],
   "source": [
    "print_nmi_ari(label_co_ass,consensus_clustering_labels)"
   ]
  },
  {
   "cell_type": "code",
   "execution_count": 0,
   "metadata": {
    "id": "iO67FBb9Q6qs",
    "colab_type": "code",
    "colab": {}
   },
   "outputs": [],
   "source": [
    "skmeans_model =spherical_kmeans.SphericalKmeans(n_clusters=nb_clusters)"
   ]
  },
  {
   "cell_type": "code",
   "execution_count": 19,
   "metadata": {
    "id": "pRn3G8UvRkuO",
    "colab_type": "code",
    "colab": {
     "base_uri": "https://localhost:8080/",
     "height": 595.0
    },
    "outputId": "cdfc629d-34bd-426a-d882-14e03a371c93"
   },
   "outputs": [
    {
     "name": "stdout",
     "output_type": "stream",
     "text": [
      " == New init == \n",
      "iteration: 0\n",
      "767.8176135949545\n",
      "iteration: 1\n",
      "862.7386595251985\n",
      "iteration: 2\n",
      "969.3054258066463\n",
      "iteration: 3\n",
      "1013.0101688517609\n",
      "iteration: 4\n",
      "1036.2176731650668\n",
      "iteration: 5\n",
      "1050.9706744039013\n",
      "iteration: 6\n",
      "1060.1828490513185\n",
      "iteration: 7\n",
      "1065.6937949199364\n",
      "iteration: 8\n",
      "1069.7815586773088\n",
      "iteration: 9\n",
      "1070.4319686942722\n",
      "iteration: 10\n",
      "1070.525590859152\n",
      "iteration: 11\n",
      "1070.5700546586027\n",
      "iteration: 12\n",
      "1070.6103081299052\n",
      "iteration: 13\n",
      "1070.6814631675848\n",
      "iteration: 14\n",
      "1070.6971073809714\n",
      "iteration: 15\n",
      "1070.700203377136\n",
      "iteration: 16\n"
     ]
    }
   ],
   "source": [
    "skmeans_model.fit(data)"
   ]
  },
  {
   "cell_type": "code",
   "execution_count": 0,
   "metadata": {
    "id": "u4lMIom7U_Is",
    "colab_type": "code",
    "colab": {}
   },
   "outputs": [],
   "source": [
    "skmeans_labels=skmeans_model.labels_"
   ]
  },
  {
   "cell_type": "code",
   "execution_count": 21,
   "metadata": {
    "id": "p3e3g83pVj7m",
    "colab_type": "code",
    "colab": {
     "base_uri": "https://localhost:8080/",
     "height": 105.0
    },
    "outputId": "87985602-2246-490a-8763-ff33da851db5"
   },
   "outputs": [
    {
     "name": "stdout",
     "output_type": "stream",
     "text": [
      "0.5987762829082632\n",
      "0.6845853937438181\n"
     ]
    },
    {
     "name": "stderr",
     "output_type": "stream",
     "text": [
      "/usr/local/lib/python3.6/dist-packages/sklearn/metrics/cluster/supervised.py:859: FutureWarning: The behavior of NMI will change in version 0.22. To match the behavior of 'v_measure_score', NMI will use average_method='arithmetic' by default.\n",
      "  FutureWarning)\n"
     ]
    }
   ],
   "source": [
    "print(ari(True_labels.flatten(),skmeans_labels))\n",
    "print(nmi(True_labels.flatten(),skmeans_labels))"
   ]
  },
  {
   "cell_type": "code",
   "execution_count": 0,
   "metadata": {
    "id": "168806ihVK03",
    "colab_type": "code",
    "colab": {}
   },
   "outputs": [],
   "source": [
    "best_five_labels_sk=best_five_labels\n",
    "best_five_labels_sk.append(skmeans_labels)"
   ]
  },
  {
   "cell_type": "code",
   "execution_count": 23,
   "metadata": {
    "id": "LWewLYdeavOC",
    "colab_type": "code",
    "colab": {
     "base_uri": "https://localhost:8080/",
     "height": 1000.0
    },
    "outputId": "b508e237-f8a3-4250-875f-849bc2cf1f63"
   },
   "outputs": [
    {
     "name": "stdout",
     "output_type": "stream",
     "text": [
      "*****\n",
      "INFO: Cluster_Ensembles: CSPA: consensus clustering using CSPA.\n",
      "\n",
      "#\n",
      "INFO: Cluster_Ensembles: wgraph: writing wgraph_CSPA.\n",
      "#\n",
      "\n",
      "#\n",
      "INFO: Cluster_Ensembles: sgraph: calling gpmetis for graph partitioning.\n",
      "INFO: Cluster_Ensembles: sgraph: (hyper)-graph partitioning completed; loading wgraph_CSPA.part.4\n",
      "#\n"
     ]
    },
    {
     "name": "stderr",
     "output_type": "stream",
     "text": [
      "/usr/local/lib/python3.6/dist-packages/sklearn/metrics/cluster/supervised.py:859: FutureWarning: The behavior of NMI will change in version 0.22. To match the behavior of 'v_measure_score', NMI will use average_method='arithmetic' by default.\n",
      "  FutureWarning)\n",
      "/usr/local/lib/python3.6/dist-packages/sklearn/metrics/cluster/supervised.py:859: FutureWarning: The behavior of NMI will change in version 0.22. To match the behavior of 'v_measure_score', NMI will use average_method='arithmetic' by default.\n",
      "  FutureWarning)\n",
      "/usr/local/lib/python3.6/dist-packages/sklearn/metrics/cluster/supervised.py:859: FutureWarning: The behavior of NMI will change in version 0.22. To match the behavior of 'v_measure_score', NMI will use average_method='arithmetic' by default.\n",
      "  FutureWarning)\n",
      "/usr/local/lib/python3.6/dist-packages/sklearn/metrics/cluster/supervised.py:859: FutureWarning: The behavior of NMI will change in version 0.22. To match the behavior of 'v_measure_score', NMI will use average_method='arithmetic' by default.\n",
      "  FutureWarning)\n",
      "/usr/local/lib/python3.6/dist-packages/sklearn/metrics/cluster/supervised.py:859: FutureWarning: The behavior of NMI will change in version 0.22. To match the behavior of 'v_measure_score', NMI will use average_method='arithmetic' by default.\n",
      "  FutureWarning)\n",
      "/usr/local/lib/python3.6/dist-packages/sklearn/metrics/cluster/supervised.py:859: FutureWarning: The behavior of NMI will change in version 0.22. To match the behavior of 'v_measure_score', NMI will use average_method='arithmetic' by default.\n",
      "  FutureWarning)\n"
     ]
    },
    {
     "name": "stdout",
     "output_type": "stream",
     "text": [
      "\n",
      "INFO: Cluster_Ensembles: cluster_ensembles: CSPA at 0.6370587345346658.\n",
      "*****\n",
      "\n",
      "*****\n",
      "INFO: Cluster_Ensembles: HGPA: consensus clustering using HGPA.\n",
      "\n",
      "#\n",
      "INFO: Cluster_Ensembles: wgraph: writing wgraph_HGPA.\n",
      "INFO: Cluster_Ensembles: wgraph: 7094 vertices and 24 non-zero hyper-edges.\n",
      "#\n",
      "\n",
      "#\n",
      "INFO: Cluster_Ensembles: sgraph: calling shmetis for hypergraph partitioning.\n",
      "INFO: Cluster_Ensembles: sgraph: (hyper)-graph partitioning completed; loading wgraph_HGPA.part.4\n",
      "#\n"
     ]
    },
    {
     "name": "stderr",
     "output_type": "stream",
     "text": [
      "/usr/local/lib/python3.6/dist-packages/sklearn/metrics/cluster/supervised.py:859: FutureWarning: The behavior of NMI will change in version 0.22. To match the behavior of 'v_measure_score', NMI will use average_method='arithmetic' by default.\n",
      "  FutureWarning)\n",
      "/usr/local/lib/python3.6/dist-packages/sklearn/metrics/cluster/supervised.py:859: FutureWarning: The behavior of NMI will change in version 0.22. To match the behavior of 'v_measure_score', NMI will use average_method='arithmetic' by default.\n",
      "  FutureWarning)\n",
      "/usr/local/lib/python3.6/dist-packages/sklearn/metrics/cluster/supervised.py:859: FutureWarning: The behavior of NMI will change in version 0.22. To match the behavior of 'v_measure_score', NMI will use average_method='arithmetic' by default.\n",
      "  FutureWarning)\n",
      "/usr/local/lib/python3.6/dist-packages/sklearn/metrics/cluster/supervised.py:859: FutureWarning: The behavior of NMI will change in version 0.22. To match the behavior of 'v_measure_score', NMI will use average_method='arithmetic' by default.\n",
      "  FutureWarning)\n",
      "/usr/local/lib/python3.6/dist-packages/sklearn/metrics/cluster/supervised.py:859: FutureWarning: The behavior of NMI will change in version 0.22. To match the behavior of 'v_measure_score', NMI will use average_method='arithmetic' by default.\n",
      "  FutureWarning)\n",
      "/usr/local/lib/python3.6/dist-packages/sklearn/metrics/cluster/supervised.py:859: FutureWarning: The behavior of NMI will change in version 0.22. To match the behavior of 'v_measure_score', NMI will use average_method='arithmetic' by default.\n",
      "  FutureWarning)\n"
     ]
    },
    {
     "name": "stdout",
     "output_type": "stream",
     "text": [
      "\n",
      "INFO: Cluster_Ensembles: cluster_ensembles: HGPA at 0.13970059546947067.\n",
      "*****\n",
      "\n",
      "*****\n",
      "INFO: Cluster_Ensembles: MCLA: consensus clustering using MCLA.\n",
      "INFO: Cluster_Ensembles: MCLA: preparing graph for meta-clustering.\n",
      "INFO: Cluster_Ensembles: MCLA: done filling hypergraph adjacency matrix. Starting computation of Jaccard similarity matrix.\n",
      "INFO: Cluster_Ensembles: MCLA: starting computation of Jaccard similarity matrix.\n",
      "INFO: Cluster_Ensembles: MCLA: done computing the matrix of pairwise Jaccard similarity scores.\n",
      "\n",
      "#\n",
      "INFO: Cluster_Ensembles: wgraph: writing wgraph_MCLA.\n",
      "#\n",
      "\n",
      "#\n",
      "INFO: Cluster_Ensembles: sgraph: calling gpmetis for graph partitioning.\n",
      "INFO: Cluster_Ensembles: sgraph: (hyper)-graph partitioning completed; loading wgraph_MCLA.part.4\n",
      "#\n",
      "INFO: Cluster_Ensembles: MCLA: delivering 4 clusters.\n",
      "INFO: Cluster_Ensembles: MCLA: average posterior probability is 0.4571867675723598\n",
      "\n",
      "INFO: Cluster_Ensembles: cluster_ensembles: MCLA at 0.6798889525494674.\n",
      "*****\n"
     ]
    },
    {
     "name": "stderr",
     "output_type": "stream",
     "text": [
      "/usr/local/lib/python3.6/dist-packages/sklearn/metrics/cluster/supervised.py:859: FutureWarning: The behavior of NMI will change in version 0.22. To match the behavior of 'v_measure_score', NMI will use average_method='arithmetic' by default.\n",
      "  FutureWarning)\n",
      "/usr/local/lib/python3.6/dist-packages/sklearn/metrics/cluster/supervised.py:859: FutureWarning: The behavior of NMI will change in version 0.22. To match the behavior of 'v_measure_score', NMI will use average_method='arithmetic' by default.\n",
      "  FutureWarning)\n",
      "/usr/local/lib/python3.6/dist-packages/sklearn/metrics/cluster/supervised.py:859: FutureWarning: The behavior of NMI will change in version 0.22. To match the behavior of 'v_measure_score', NMI will use average_method='arithmetic' by default.\n",
      "  FutureWarning)\n",
      "/usr/local/lib/python3.6/dist-packages/sklearn/metrics/cluster/supervised.py:859: FutureWarning: The behavior of NMI will change in version 0.22. To match the behavior of 'v_measure_score', NMI will use average_method='arithmetic' by default.\n",
      "  FutureWarning)\n",
      "/usr/local/lib/python3.6/dist-packages/sklearn/metrics/cluster/supervised.py:859: FutureWarning: The behavior of NMI will change in version 0.22. To match the behavior of 'v_measure_score', NMI will use average_method='arithmetic' by default.\n",
      "  FutureWarning)\n",
      "/usr/local/lib/python3.6/dist-packages/sklearn/metrics/cluster/supervised.py:859: FutureWarning: The behavior of NMI will change in version 0.22. To match the behavior of 'v_measure_score', NMI will use average_method='arithmetic' by default.\n",
      "  FutureWarning)\n"
     ]
    }
   ],
   "source": [
    "consensus_clustering_labels_sk = apply_cluster_ens_for_bestfive(best_five_labels_sk)"
   ]
  },
  {
   "cell_type": "code",
   "execution_count": 0,
   "metadata": {
    "id": "cWL-Hxz7ZB0K",
    "colab_type": "code",
    "colab": {}
   },
   "outputs": [],
   "source": [
    "mat_co_ass_sk=co_ass_matrix(best_five_labels_sk)"
   ]
  },
  {
   "cell_type": "code",
   "execution_count": 0,
   "metadata": {
    "id": "erCU9cOq2LSb",
    "colab_type": "code",
    "colab": {}
   },
   "outputs": [],
   "source": [
    "label_co_ass_sk=apply_ccinfo_for_co_ass(mat_co_ass_sk,nb_col_clust=nb_clusters,nb_row_clust=nb_clusters)"
   ]
  },
  {
   "cell_type": "code",
   "execution_count": 26,
   "metadata": {
    "colab_type": "code",
    "id": "nWpem3pXovBz",
    "colab": {
     "base_uri": "https://localhost:8080/",
     "height": 241.0
    },
    "outputId": "093dbb48-c560-4db2-e27c-2487cf59b5d7"
   },
   "outputs": [
    {
     "name": "stdout",
     "output_type": "stream",
     "text": [
      "Ari :cluster_ensembele \n",
      "0.3693622039585209\n",
      "Ari :co_associasion : \n",
      "0.5692149404104829\n",
      "Nmi :cluster_ensembele \n",
      "0.54201365498749\n",
      "NMI :cluster_ensembele \n",
      "0.6567106149496271\n"
     ]
    },
    {
     "name": "stderr",
     "output_type": "stream",
     "text": [
      "/usr/local/lib/python3.6/dist-packages/sklearn/metrics/cluster/supervised.py:859: FutureWarning: The behavior of NMI will change in version 0.22. To match the behavior of 'v_measure_score', NMI will use average_method='arithmetic' by default.\n",
      "  FutureWarning)\n",
      "/usr/local/lib/python3.6/dist-packages/sklearn/metrics/cluster/supervised.py:859: FutureWarning: The behavior of NMI will change in version 0.22. To match the behavior of 'v_measure_score', NMI will use average_method='arithmetic' by default.\n",
      "  FutureWarning)\n"
     ]
    }
   ],
   "source": [
    "print_nmi_ari(label_co_ass_sk,consensus_clustering_labels_sk)"
   ]
  },
  {
   "cell_type": "markdown",
   "metadata": {
    "id": "_E7L50T03b0p",
    "colab_type": "text"
   },
   "source": [
    "Question 4\n",
    "*italicized text*"
   ]
  },
  {
   "cell_type": "code",
   "execution_count": 0,
   "metadata": {
    "id": "MB940Gu9ibgv",
    "colab_type": "code",
    "colab": {}
   },
   "outputs": [],
   "source": [
    "best_five_labels_2col=best_five_ccinfo(data,nb_row_clust=nb_clusters,nb_col_clust=2*nb_clusters)"
   ]
  },
  {
   "cell_type": "code",
   "execution_count": 0,
   "metadata": {
    "id": "fj2qlODn4yIp",
    "colab_type": "code",
    "colab": {}
   },
   "outputs": [],
   "source": [
    "consensus_clustering_labels_2col =apply_cluster_ens_for_bestfive(best_five_labels_2col)"
   ]
  },
  {
   "cell_type": "code",
   "execution_count": 0,
   "metadata": {
    "id": "K9s0KHAH5YdR",
    "colab_type": "code",
    "colab": {}
   },
   "outputs": [],
   "source": [
    "mat_co_ass_2col=co_ass_matrix(best_five_labels_2col)"
   ]
  },
  {
   "cell_type": "code",
   "execution_count": 0,
   "metadata": {
    "id": "HkvfXkNa6bjl",
    "colab_type": "code",
    "colab": {}
   },
   "outputs": [],
   "source": [
    "label_co_ass_2col=apply_ccinfo_for_co_ass(mat_co_ass_2col,nb_row_clust=nb_clusters,nb_col_clust=2*nb_clusters)"
   ]
  },
  {
   "cell_type": "code",
   "execution_count": 0,
   "metadata": {
    "id": "8LfhWTgT6plO",
    "colab_type": "code",
    "colab": {}
   },
   "outputs": [],
   "source": [
    "print_nmi_ari(label_co_ass_2col,consensus_clustering_labels_2col)"
   ]
  },
  {
   "cell_type": "code",
   "execution_count": 0,
   "metadata": {
    "id": "QeQc5LED6ygb",
    "colab_type": "code",
    "colab": {}
   },
   "outputs": [],
   "source": [
    "best_five_labels_2col_sk=best_five_labels_2col\n",
    "best_five_labels_2col_sk.append(skmeans_labels)"
   ]
  },
  {
   "cell_type": "code",
   "execution_count": 0,
   "metadata": {
    "id": "rKvB0ptLFt-c",
    "colab_type": "code",
    "colab": {}
   },
   "outputs": [],
   "source": [
    "consensus_clustering_labels_2col_sk=apply_cluster_ens_for_bestfive(best_five_labels_2col_sk)"
   ]
  },
  {
   "cell_type": "code",
   "execution_count": 0,
   "metadata": {
    "id": "iCyKkb_XF7Fb",
    "colab_type": "code",
    "colab": {}
   },
   "outputs": [],
   "source": [
    "mat_co_ass_2col_sk=co_ass_matrix(best_five_labels_2col_sk)"
   ]
  },
  {
   "cell_type": "code",
   "execution_count": 0,
   "metadata": {
    "id": "y5GXpMxCGNE5",
    "colab_type": "code",
    "colab": {}
   },
   "outputs": [],
   "source": [
    "label_co_ass_2col_sk=apply_ccinfo_for_co_ass(mat_co_ass_2col_sk,nb_row_clust=nb_clusters,nb_col_clust=2*nb_clusters)"
   ]
  },
  {
   "cell_type": "code",
   "execution_count": 0,
   "metadata": {
    "id": "jzFyQwNuGbCZ",
    "colab_type": "code",
    "colab": {}
   },
   "outputs": [],
   "source": [
    "print_nmi_ari(label_co_ass_2col_sk,consensus_clustering_labels_2col_sk)"
   ]
  },
  {
   "cell_type": "markdown",
   "metadata": {
    "id": "3HxqvO16GyuF",
    "colab_type": "text"
   },
   "source": [
    "3*nbr of clusters"
   ]
  },
  {
   "cell_type": "code",
   "execution_count": 0,
   "metadata": {
    "id": "lEQOu3q2GtO8",
    "colab_type": "code",
    "colab": {}
   },
   "outputs": [],
   "source": [
    "best_five_labels_3col=best_five_ccinfo(data,nb_row_clust=nb_clusters,nb_col_clust=3*nb_clusters)\n",
    "consensus_clustering_labels_3col =apply_cluster_ens_for_bestfive(best_five_labels_3col)\n",
    "mat_co_ass_3col=co_ass_matrix(best_five_labels_3col)\n",
    "label_co_ass_3col=apply_ccinfo_for_co_ass(mat_co_ass_3col,nb_row_clust=nb_clusters,nb_col_clust=3*nb_clusters)\n",
    "print_nmi_ari(label_co_ass_3col,consensus_clustering_labels_3col)"
   ]
  },
  {
   "cell_type": "code",
   "execution_count": 0,
   "metadata": {
    "id": "oG1Bbb37HkdR",
    "colab_type": "code",
    "colab": {}
   },
   "outputs": [],
   "source": [
    "best_five_labels_3col_sk=best_five_labels_3col\n",
    "best_five_labels_3col_sk.append(skmeans_labels)\n",
    "consensus_clustering_labels_3col_sk=apply_cluster_ens_for_bestfive(best_five_labels_3col_sk)\n",
    "mat_co_ass_3col_sk=co_ass_matrix(best_five_labels_3col_sk)\n",
    "label_co_ass_3col_sk=apply_ccinfo_for_co_ass(mat_co_ass_3col_sk,nb_row_clust=nb_clusters,nb_col_clust=3*nb_clusters)"
   ]
  },
  {
   "cell_type": "code",
   "execution_count": 0,
   "metadata": {
    "id": "UFQ66MImI4qt",
    "colab_type": "code",
    "colab": {}
   },
   "outputs": [],
   "source": [
    "print_nmi_ari(label_co_ass_3col_sk,consensus_clustering_labels_3col_sk)"
   ]
  },
  {
   "cell_type": "markdown",
   "metadata": {
    "id": "E9LFEQy1JlBd",
    "colab_type": "text"
   },
   "source": [
    "Affichage final"
   ]
  },
  {
   "cell_type": "code",
   "execution_count": 0,
   "metadata": {
    "id": "JJhySTf4JNsu",
    "colab_type": "code",
    "colab": {}
   },
   "outputs": [],
   "source": [
    "print(\"result (nb_cluster_col=nb_cluster_row=true_clusters) without skmeans \" )\n",
    "print_nmi_ari(label_co_ass,consensus_clustering_labels)\n",
    "print(\"result (nb_cluster_col=nb_cluster_row=true_clusters) with skmeans \" )\n",
    "print_nmi_ari(label_co_ass_sk,consensus_clustering_labels_sk)\n",
    "print(\"result (nb_cluster_col=2*true_clusters,nb_cluster_row=true_clusters) without skmeans \" )\n",
    "print_nmi_ari(label_co_ass_2col,consensus_clustering_labels_2col)\n",
    "\n",
    "print(\"result (nb_cluster_col=2*true_clusters,nb_cluster_row=true_clusters) with skmeans \" )\n",
    "print_nmi_ari(label_co_ass_2col_sk,consensus_clustering_labels_2col_sk)\n",
    "\n",
    "print(\"result (nb_cluster_col=3*true_clusters,nb_cluster_row=true_clusters) without skmeans \" )\n",
    "print_nmi_ari(label_co_ass_3col,consensus_clustering_labels_3col)\n",
    "print(\"result (nb_cluster_col=3*true_clusters,nb_cluster_row=true_clusters) with skmeans \" )\n",
    "print_nmi_ari(label_co_ass_3col_sk,consensus_clustering_labels_3col_sk)\n"
   ]
  },
  {
   "cell_type": "code",
   "execution_count": 0,
   "metadata": {
    "id": "QJlU2mrKLH-b",
    "colab_type": "code",
    "colab": {}
   },
   "outputs": [],
   "source": [
    ""
   ]
  }
 ],
 "metadata": {
  "kernelspec": {
   "name": "python3",
   "display_name": "Python 3"
  },
  "language_info": {
   "codemirror_mode": {
    "name": "ipython",
    "version": 3
   },
   "file_extension": ".py",
   "mimetype": "text/x-python",
   "name": "python",
   "nbconvert_exporter": "python",
   "pygments_lexer": "ipython3",
   "version": "3.7.1"
  },
  "colab": {
   "name": "co_clust.ipynb",
   "provenance": [],
   "collapsed_sections": []
  },
  "accelerator": "GPU"
 },
 "nbformat": 4,
 "nbformat_minor": 0
}
